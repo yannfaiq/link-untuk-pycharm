{
  "nbformat": 4,
  "nbformat_minor": 0,
  "metadata": {
    "colab": {
      "provenance": [],
      "authorship_tag": "ABX9TyP6fnXaZlgAEL4nZFiNyN9O",
      "include_colab_link": true
    },
    "kernelspec": {
      "name": "python3",
      "display_name": "Python 3"
    },
    "language_info": {
      "name": "python"
    }
  },
  "cells": [
    {
      "cell_type": "markdown",
      "metadata": {
        "id": "view-in-github",
        "colab_type": "text"
      },
      "source": [
        "<a href=\"https://colab.research.google.com/github/yannfaiq/link-untuk-pycharm/blob/main/Pertemuan_Ke_4.ipynb\" target=\"_parent\"><img src=\"https://colab.research.google.com/assets/colab-badge.svg\" alt=\"Open In Colab\"/></a>"
      ]
    },
    {
      "cell_type": "code",
      "execution_count": 4,
      "metadata": {
        "colab": {
          "base_uri": "https://localhost:8080/"
        },
        "id": "7feoFK0JmyvV",
        "outputId": "e5ae3775-9103-4b93-918c-53c8bf5af2fb"
      },
      "outputs": [
        {
          "output_type": "stream",
          "name": "stdout",
          "text": [
            "2 1\n"
          ]
        }
      ],
      "source": [
        "var1 = 1\n",
        "var2 = 2\n",
        "var1, var2 = var2, var1\n",
        "print(var1, var2)"
      ]
    },
    {
      "cell_type": "code",
      "source": [
        "list = [25,21,22,24,23,27,26]"
      ],
      "metadata": {
        "id": "4w_DmsjpnSNw"
      },
      "execution_count": 17,
      "outputs": []
    },
    {
      "cell_type": "code",
      "source": [
        "lastElementIndex = len(list)-1\n",
        "print(0,list)\n",
        "for idx in range(lastElementIndex):\n",
        "                if list[idx]>list[idx+1]:\n",
        "                    list[idx],list[idx+1]=list[idx+1],list[idx]\n",
        "                print(idx+1,list)"
      ],
      "metadata": {
        "colab": {
          "base_uri": "https://localhost:8080/"
        },
        "id": "Et2jCRhHpCbs",
        "outputId": "ab7edaf5-deb1-4c5c-8c4d-4a8dbc65b8f8"
      },
      "execution_count": 16,
      "outputs": [
        {
          "output_type": "stream",
          "name": "stdout",
          "text": [
            "0 [21, 22, 23, 24, 25, 26, 27]\n",
            "1 [21, 22, 23, 24, 25, 26, 27]\n",
            "2 [21, 22, 23, 24, 25, 26, 27]\n",
            "3 [21, 22, 23, 24, 25, 26, 27]\n",
            "4 [21, 22, 23, 24, 25, 26, 27]\n",
            "5 [21, 22, 23, 24, 25, 26, 27]\n",
            "6 [21, 22, 23, 24, 25, 26, 27]\n"
          ]
        }
      ]
    },
    {
      "cell_type": "code",
      "source": [
        "list"
      ],
      "metadata": {
        "colab": {
          "base_uri": "https://localhost:8080/"
        },
        "id": "KF2127l-ogS_",
        "outputId": "6ba83f66-fcc3-44dc-8ee8-783074e2d5f2"
      },
      "execution_count": 12,
      "outputs": [
        {
          "output_type": "execute_result",
          "data": {
            "text/plain": [
              "[21, 22, 24, 23, 25, 26, 27]"
            ]
          },
          "metadata": {},
          "execution_count": 12
        }
      ]
    },
    {
      "cell_type": "code",
      "source": [
        "def BubbleSort(list):\n",
        "  # Excahnge the elements to arrange in order\n",
        "  lastElementIndex = len(list)-1\n",
        "  for passNo in range(lastElementIndex,0,-1):\n",
        "      for idx in range(passNo):\n",
        "          if list[idx]>list[idx+1]:\n",
        "              list[idx],list[idx+1]=list[idx+1], list[idx]\n",
        "  return list"
      ],
      "metadata": {
        "id": "haA99V7xn6cH"
      },
      "execution_count": 11,
      "outputs": []
    },
    {
      "cell_type": "code",
      "source": [
        "list = [25,21,22,24,23,27,26]"
      ],
      "metadata": {
        "id": "XEGkrjpBoh3N"
      },
      "execution_count": 13,
      "outputs": []
    },
    {
      "cell_type": "code",
      "source": [
        "BubbleSort(list)"
      ],
      "metadata": {
        "colab": {
          "base_uri": "https://localhost:8080/"
        },
        "id": "8adTtNazovVP",
        "outputId": "58e3b9c0-6300-4ec9-e230-7ee6709addad"
      },
      "execution_count": 14,
      "outputs": [
        {
          "output_type": "execute_result",
          "data": {
            "text/plain": [
              "[21, 22, 23, 24, 25, 26, 27]"
            ]
          },
          "metadata": {},
          "execution_count": 14
        }
      ]
    },
    {
      "cell_type": "code",
      "source": [
        "list"
      ],
      "metadata": {
        "colab": {
          "base_uri": "https://localhost:8080/"
        },
        "id": "XqKoXJ4Xoz2n",
        "outputId": "b053b56c-07dd-4600-a2f4-83649232dedf"
      },
      "execution_count": 15,
      "outputs": [
        {
          "output_type": "execute_result",
          "data": {
            "text/plain": [
              "[21, 22, 23, 24, 25, 26, 27]"
            ]
          },
          "metadata": {},
          "execution_count": 15
        }
      ]
    },
    {
      "cell_type": "code",
      "source": [
        "#insertion sort\n",
        "def InsertionSort(list):\n",
        "    for i in range(1, len(list)):\n",
        "      j = i - 1\n",
        "      next = list[i]\n",
        "# Compare the current element with next one\n",
        "      while (list[j] > next) and (j >= 0) :\n",
        "          list[j+1] = list[j]\n",
        "          j = j - 1\n",
        "      list [j + 1] = next\n",
        "    return list"
      ],
      "metadata": {
        "id": "OzjrpLHip5er"
      },
      "execution_count": 25,
      "outputs": []
    },
    {
      "cell_type": "code",
      "source": [
        "list = [35,31,32,34,33,37,36]"
      ],
      "metadata": {
        "id": "Ik9SZdn1quvP"
      },
      "execution_count": 26,
      "outputs": []
    },
    {
      "cell_type": "code",
      "source": [
        "list"
      ],
      "metadata": {
        "colab": {
          "base_uri": "https://localhost:8080/"
        },
        "id": "81kl1VLYqzfd",
        "outputId": "b0deae79-3e6c-4b25-c922-55a96e54571d"
      },
      "execution_count": 27,
      "outputs": [
        {
          "output_type": "execute_result",
          "data": {
            "text/plain": [
              "[35, 31, 32, 34, 33, 37, 36]"
            ]
          },
          "metadata": {},
          "execution_count": 27
        }
      ]
    },
    {
      "cell_type": "code",
      "source": [
        "InsertionSort(list)"
      ],
      "metadata": {
        "colab": {
          "base_uri": "https://localhost:8080/"
        },
        "id": "UGJ3sdSaq3oF",
        "outputId": "f7eea3ed-54dc-4064-9798-8de7063cbc87"
      },
      "execution_count": 28,
      "outputs": [
        {
          "output_type": "execute_result",
          "data": {
            "text/plain": [
              "[31, 32, 33, 34, 35, 36, 37]"
            ]
          },
          "metadata": {},
          "execution_count": 28
        }
      ]
    },
    {
      "cell_type": "code",
      "source": [
        "list"
      ],
      "metadata": {
        "colab": {
          "base_uri": "https://localhost:8080/"
        },
        "id": "A6sDnAtoq7F9",
        "outputId": "d8830245-c36c-42ee-a66a-50f44339724d"
      },
      "execution_count": 29,
      "outputs": [
        {
          "output_type": "execute_result",
          "data": {
            "text/plain": [
              "[31, 32, 33, 34, 35, 36, 37]"
            ]
          },
          "metadata": {},
          "execution_count": 29
        }
      ]
    },
    {
      "cell_type": "code",
      "source": [
        "list = [25,26,22,24,27,23,21]\n",
        "InsertionSort(list)\n",
        "print(list)"
      ],
      "metadata": {
        "colab": {
          "base_uri": "https://localhost:8080/"
        },
        "id": "ryf_DFtBrCmc",
        "outputId": "21c0bca4-aa3c-4468-ec8e-87d60a727590"
      },
      "execution_count": 30,
      "outputs": [
        {
          "output_type": "stream",
          "name": "stdout",
          "text": [
            "[21, 22, 23, 24, 25, 26, 27]\n"
          ]
        }
      ]
    },
    {
      "cell_type": "code",
      "source": [
        "#Selection Sort\n",
        "def SelectionSort(list):\n",
        "    for fill_slot in range(len(list) - 1, 0, -1):\n",
        "        max_index = 0\n",
        "        for location in range(1, fill_slot + 1):\n",
        "            if list[location] > list[max_index]:\n",
        "                max_index = location\n",
        "        list[fill_slot], list[max_index] = list[max_index], list[fill_slot]\n",
        "    return list"
      ],
      "metadata": {
        "id": "CqfgzPfOsUv7"
      },
      "execution_count": 38,
      "outputs": []
    },
    {
      "cell_type": "code",
      "source": [
        "list = [70,15,25,19,34,44]\n",
        "SelectionSort(list)"
      ],
      "metadata": {
        "colab": {
          "base_uri": "https://localhost:8080/"
        },
        "id": "cwlyMK5nslEz",
        "outputId": "d7095398-b293-40f7-f05a-c36f5e4af2b0"
      },
      "execution_count": 39,
      "outputs": [
        {
          "output_type": "execute_result",
          "data": {
            "text/plain": [
              "[15, 19, 25, 34, 44, 70]"
            ]
          },
          "metadata": {},
          "execution_count": 39
        }
      ]
    },
    {
      "cell_type": "code",
      "source": [
        "list"
      ],
      "metadata": {
        "colab": {
          "base_uri": "https://localhost:8080/"
        },
        "id": "pISnvLPlsl4m",
        "outputId": "32ddfb07-c039-42e8-8ce6-ea91044ecd65"
      },
      "execution_count": 40,
      "outputs": [
        {
          "output_type": "execute_result",
          "data": {
            "text/plain": [
              "[15, 19, 25, 34, 44, 70]"
            ]
          },
          "metadata": {},
          "execution_count": 40
        }
      ]
    },
    {
      "cell_type": "code",
      "source": [
        "list = [70,15,25,19,34,44]\n",
        "SelectionSort(list)\n",
        "print(list)"
      ],
      "metadata": {
        "colab": {
          "base_uri": "https://localhost:8080/"
        },
        "id": "pRgi1dOps_cN",
        "outputId": "a066ad6b-a2f1-4f49-ccbf-d6d14364c270"
      },
      "execution_count": 41,
      "outputs": [
        {
          "output_type": "stream",
          "name": "stdout",
          "text": [
            "[15, 19, 25, 34, 44, 70]\n"
          ]
        }
      ]
    },
    {
      "cell_type": "code",
      "source": [
        "def LinearSearch (list, item):\n",
        "    index = 0\n",
        "    found = False\n",
        "# Match the value with each data element\n",
        "    while index < len(list) and found is False:\n",
        "        if list[index] == item:\n",
        "            found = True\n",
        "        else:\n",
        "            index = index + 1\n",
        "    return found"
      ],
      "metadata": {
        "id": "4qEcsyfTubeL"
      },
      "execution_count": 47,
      "outputs": []
    },
    {
      "cell_type": "code",
      "source": [
        "list = [12, 33, 11, 99, 22, 55, 90]\n",
        "print(LinearSearch (list, 12))\n",
        "print(LinearSearch (list, 91))"
      ],
      "metadata": {
        "colab": {
          "base_uri": "https://localhost:8080/"
        },
        "id": "yJ6jNTYJvCTM",
        "outputId": "ff4ea67c-9d9f-43c9-e01c-566955f58db5"
      },
      "execution_count": 48,
      "outputs": [
        {
          "output_type": "stream",
          "name": "stdout",
          "text": [
            "True\n",
            "False\n"
          ]
        }
      ]
    },
    {
      "cell_type": "code",
      "source": [
        "def BinarySearch(list, item):\n",
        "    first = 0\n",
        "    last = len(list)-1\n",
        "    found = False\n",
        "\n",
        "    while first<=last and not found:\n",
        "        midpoint = (first + last)//2\n",
        "        if list[midpoint] == item:\n",
        "            found = True\n",
        "\n",
        "        else:\n",
        "            if item < list[midpoint]:\n",
        "                last = midpoint-1\n",
        "            else:\n",
        "                first = midpoint+1\n",
        "    return found"
      ],
      "metadata": {
        "id": "QqNcncwIwL9d"
      },
      "execution_count": 53,
      "outputs": []
    },
    {
      "cell_type": "code",
      "source": [
        "list = [12, 33, 11, 99, 22, 55, 90]\n",
        "sorted_list = BubbleSort(list)\n",
        "print(BinarySearch(list, 12))\n",
        "print(BinarySearch(list, 91))"
      ],
      "metadata": {
        "colab": {
          "base_uri": "https://localhost:8080/"
        },
        "id": "IcVpwUbVww9j",
        "outputId": "93bbd39d-5919-4414-dba9-b6f8f7075c74"
      },
      "execution_count": 54,
      "outputs": [
        {
          "output_type": "stream",
          "name": "stdout",
          "text": [
            "True\n",
            "False\n"
          ]
        }
      ]
    },
    {
      "cell_type": "code",
      "source": [
        "def IntPolsearch(list,x):\n",
        "    idx0 = 0\n",
        "    idxn = (len(list) - 1)\n",
        "    found = False\n",
        "    while idx <= idxn and x >= list[idx] and x <= list[idxn]:\n",
        "\n",
        "# Find the mid point\n",
        "        mid = idx0 +int(((float(idxn - idx0)/(list[idxn] - list [idx])) * ( x - list[idx])))\n",
        "\n",
        "# Compare the value at mid point with search value\n",
        "        if list[mid] == x:\n",
        "            found = True\n",
        "            return found\n",
        "        if list[mid] < x:\n",
        "            idx0 = mid + 1\n",
        "    return found"
      ],
      "metadata": {
        "id": "rxpVtrSFxIcN"
      },
      "execution_count": 76,
      "outputs": []
    },
    {
      "cell_type": "code",
      "source": [
        "list = [12, 33, 11, 99, 22, 55, 90]\n",
        "sorted_list = BubbleSort(list)\n",
        "print(IntPolsearch(list,12))\n",
        "print(IntPolsearch(list,91))"
      ],
      "metadata": {
        "colab": {
          "base_uri": "https://localhost:8080/",
          "height": 315
        },
        "id": "29li2D48x6t0",
        "outputId": "7356b305-d022-43a5-a391-a7de54798ca5"
      },
      "execution_count": 77,
      "outputs": [
        {
          "output_type": "stream",
          "name": "stdout",
          "text": [
            "False\n"
          ]
        },
        {
          "output_type": "error",
          "ename": "KeyboardInterrupt",
          "evalue": "",
          "traceback": [
            "\u001b[0;31m---------------------------------------------------------------------------\u001b[0m",
            "\u001b[0;31mKeyboardInterrupt\u001b[0m                         Traceback (most recent call last)",
            "\u001b[0;32m/tmp/ipython-input-525296946.py\u001b[0m in \u001b[0;36m<cell line: 0>\u001b[0;34m()\u001b[0m\n\u001b[1;32m      2\u001b[0m \u001b[0msorted_list\u001b[0m \u001b[0;34m=\u001b[0m \u001b[0mBubbleSort\u001b[0m\u001b[0;34m(\u001b[0m\u001b[0mlist\u001b[0m\u001b[0;34m)\u001b[0m\u001b[0;34m\u001b[0m\u001b[0;34m\u001b[0m\u001b[0m\n\u001b[1;32m      3\u001b[0m \u001b[0mprint\u001b[0m\u001b[0;34m(\u001b[0m\u001b[0mIntPolsearch\u001b[0m\u001b[0;34m(\u001b[0m\u001b[0mlist\u001b[0m\u001b[0;34m,\u001b[0m\u001b[0;36m12\u001b[0m\u001b[0;34m)\u001b[0m\u001b[0;34m)\u001b[0m\u001b[0;34m\u001b[0m\u001b[0;34m\u001b[0m\u001b[0m\n\u001b[0;32m----> 4\u001b[0;31m \u001b[0mprint\u001b[0m\u001b[0;34m(\u001b[0m\u001b[0mIntPolsearch\u001b[0m\u001b[0;34m(\u001b[0m\u001b[0mlist\u001b[0m\u001b[0;34m,\u001b[0m\u001b[0;36m91\u001b[0m\u001b[0;34m)\u001b[0m\u001b[0;34m)\u001b[0m\u001b[0;34m\u001b[0m\u001b[0;34m\u001b[0m\u001b[0m\n\u001b[0m",
            "\u001b[0;32m/tmp/ipython-input-2843628351.py\u001b[0m in \u001b[0;36mIntPolsearch\u001b[0;34m(list, x)\u001b[0m\n\u001b[1;32m      6\u001b[0m \u001b[0;34m\u001b[0m\u001b[0m\n\u001b[1;32m      7\u001b[0m \u001b[0;31m# Find the mid point\u001b[0m\u001b[0;34m\u001b[0m\u001b[0;34m\u001b[0m\u001b[0m\n\u001b[0;32m----> 8\u001b[0;31m         \u001b[0mmid\u001b[0m \u001b[0;34m=\u001b[0m \u001b[0midx0\u001b[0m \u001b[0;34m+\u001b[0m\u001b[0mint\u001b[0m\u001b[0;34m(\u001b[0m\u001b[0;34m(\u001b[0m\u001b[0;34m(\u001b[0m\u001b[0mfloat\u001b[0m\u001b[0;34m(\u001b[0m\u001b[0midxn\u001b[0m \u001b[0;34m-\u001b[0m \u001b[0midx0\u001b[0m\u001b[0;34m)\u001b[0m\u001b[0;34m/\u001b[0m\u001b[0;34m(\u001b[0m\u001b[0mlist\u001b[0m\u001b[0;34m[\u001b[0m\u001b[0midxn\u001b[0m\u001b[0;34m]\u001b[0m \u001b[0;34m-\u001b[0m \u001b[0mlist\u001b[0m \u001b[0;34m[\u001b[0m\u001b[0midx\u001b[0m\u001b[0;34m]\u001b[0m\u001b[0;34m)\u001b[0m\u001b[0;34m)\u001b[0m \u001b[0;34m*\u001b[0m \u001b[0;34m(\u001b[0m \u001b[0mx\u001b[0m \u001b[0;34m-\u001b[0m \u001b[0mlist\u001b[0m\u001b[0;34m[\u001b[0m\u001b[0midx\u001b[0m\u001b[0;34m]\u001b[0m\u001b[0;34m)\u001b[0m\u001b[0;34m)\u001b[0m\u001b[0;34m)\u001b[0m\u001b[0;34m\u001b[0m\u001b[0;34m\u001b[0m\u001b[0m\n\u001b[0m\u001b[1;32m      9\u001b[0m \u001b[0;34m\u001b[0m\u001b[0m\n\u001b[1;32m     10\u001b[0m \u001b[0;31m# Compare the value at mid point with search value\u001b[0m\u001b[0;34m\u001b[0m\u001b[0;34m\u001b[0m\u001b[0m\n",
            "\u001b[0;31mKeyboardInterrupt\u001b[0m: "
          ]
        }
      ]
    },
    {
      "cell_type": "code",
      "source": [
        "#LATIHANN"
      ],
      "metadata": {
        "id": "zAe5n6ZauWtr"
      },
      "execution_count": null,
      "outputs": []
    },
    {
      "cell_type": "code",
      "source": [
        "#Latihan Swap\n",
        "var1 = 1\n",
        "var2 = 2\n",
        "var3 = 3\n",
        "var1, var2, var3 = var3, var2, var1\n",
        "print(var1, var2, var3)"
      ],
      "metadata": {
        "colab": {
          "base_uri": "https://localhost:8080/"
        },
        "id": "7dLXa46B044n",
        "outputId": "425afdbd-bcc8-4115-efdf-3a95e63f0246"
      },
      "execution_count": 84,
      "outputs": [
        {
          "output_type": "stream",
          "name": "stdout",
          "text": [
            "3 2 1\n"
          ]
        }
      ]
    },
    {
      "cell_type": "code",
      "source": [
        "#Latihan Bubble Sort\n",
        "list = [100, 20, 60, 90, 40, 30, 10]\n",
        "BubbleSort(list)\n",
        "print(list)"
      ],
      "metadata": {
        "colab": {
          "base_uri": "https://localhost:8080/"
        },
        "id": "zuT9zMQjpFgV",
        "outputId": "663344f8-53bf-4aa6-c0b4-ea052499831b"
      },
      "execution_count": 44,
      "outputs": [
        {
          "output_type": "stream",
          "name": "stdout",
          "text": [
            "[10, 20, 30, 40, 60, 90, 100]\n"
          ]
        }
      ]
    },
    {
      "cell_type": "code",
      "source": [
        "#Latihan Insertion Sort\n",
        "list = [89, 12, 57, 16, 25, 11, 75]\n",
        "InsertionSort(list)\n",
        "print(list)"
      ],
      "metadata": {
        "colab": {
          "base_uri": "https://localhost:8080/"
        },
        "id": "CZy25fn7tknp",
        "outputId": "0040b620-a53b-4512-e7ae-c46efebad565"
      },
      "execution_count": 43,
      "outputs": [
        {
          "output_type": "stream",
          "name": "stdout",
          "text": [
            "[11, 12, 16, 25, 57, 75, 89]\n"
          ]
        }
      ]
    },
    {
      "cell_type": "code",
      "source": [
        "#Latihan Selection Sort\n",
        "list = [89, 12, 57, 16, 25]\n",
        "SelectionSort(list)\n",
        "print(list)"
      ],
      "metadata": {
        "colab": {
          "base_uri": "https://localhost:8080/"
        },
        "id": "oewhcmTQtOTc",
        "outputId": "bf05d834-8d58-4166-d62c-8f125de5b1d2"
      },
      "execution_count": 42,
      "outputs": [
        {
          "output_type": "stream",
          "name": "stdout",
          "text": [
            "[12, 16, 25, 57, 89]\n"
          ]
        }
      ]
    },
    {
      "cell_type": "code",
      "source": [
        "#Latihan Linear Search\n",
        "list = ['y', 'u', 'i', 'w', 'o', 'a', 'q', 'u', 'j', 'p']\n",
        "print(LinearSearch(list, 'a'))"
      ],
      "metadata": {
        "colab": {
          "base_uri": "https://localhost:8080/"
        },
        "id": "rCfRSXLrvN1U",
        "outputId": "c6049788-c429-4fd9-b90c-3356e5bd5428"
      },
      "execution_count": 51,
      "outputs": [
        {
          "output_type": "stream",
          "name": "stdout",
          "text": [
            "True\n"
          ]
        }
      ]
    },
    {
      "cell_type": "code",
      "source": [
        "#Latihan Searching Binary Search\n",
        "list = ['y', 'u', 'i', 'w', 'o', 'a', 'q', 'u', 'j', 'p']\n",
        "sorted_list = BubbleSort(list)\n",
        "print(BinarySearch(list, 'a'))"
      ],
      "metadata": {
        "colab": {
          "base_uri": "https://localhost:8080/"
        },
        "id": "S1Auhohhw62E",
        "outputId": "b1da6b39-0262-4032-ff3c-7e52610302fa"
      },
      "execution_count": 55,
      "outputs": [
        {
          "output_type": "stream",
          "name": "stdout",
          "text": [
            "True\n"
          ]
        }
      ]
    },
    {
      "cell_type": "code",
      "source": [
        "#Latihan Interpolation Search\n",
        "list = ['y, u, i, w, o, a, q, u, j, p']\n",
        "sorted_list = BubbleSort(list)\n",
        "print(IntPolsearch(list, u))"
      ],
      "metadata": {
        "colab": {
          "base_uri": "https://localhost:8080/",
          "height": 176
        },
        "id": "31w24tVvybo0",
        "outputId": "bd6dc2ba-02e4-419c-83c6-52667b08d98e"
      },
      "execution_count": 82,
      "outputs": [
        {
          "output_type": "error",
          "ename": "NameError",
          "evalue": "name 'u' is not defined",
          "traceback": [
            "\u001b[0;31m---------------------------------------------------------------------------\u001b[0m",
            "\u001b[0;31mNameError\u001b[0m                                 Traceback (most recent call last)",
            "\u001b[0;32m/tmp/ipython-input-3767964066.py\u001b[0m in \u001b[0;36m<cell line: 0>\u001b[0;34m()\u001b[0m\n\u001b[1;32m      2\u001b[0m \u001b[0mlist\u001b[0m \u001b[0;34m=\u001b[0m \u001b[0;34m[\u001b[0m\u001b[0;34m'y, u, i, w, o, a, q, u, j, p'\u001b[0m\u001b[0;34m]\u001b[0m\u001b[0;34m\u001b[0m\u001b[0;34m\u001b[0m\u001b[0m\n\u001b[1;32m      3\u001b[0m \u001b[0msorted_list\u001b[0m \u001b[0;34m=\u001b[0m \u001b[0mBubbleSort\u001b[0m\u001b[0;34m(\u001b[0m\u001b[0mlist\u001b[0m\u001b[0;34m)\u001b[0m\u001b[0;34m\u001b[0m\u001b[0;34m\u001b[0m\u001b[0m\n\u001b[0;32m----> 4\u001b[0;31m \u001b[0mprint\u001b[0m\u001b[0;34m(\u001b[0m\u001b[0mIntPolsearch\u001b[0m\u001b[0;34m(\u001b[0m\u001b[0mlist\u001b[0m\u001b[0;34m,\u001b[0m \u001b[0mu\u001b[0m\u001b[0;34m)\u001b[0m\u001b[0;34m)\u001b[0m\u001b[0;34m\u001b[0m\u001b[0;34m\u001b[0m\u001b[0m\n\u001b[0m",
            "\u001b[0;31mNameError\u001b[0m: name 'u' is not defined"
          ]
        }
      ]
    }
  ]
}