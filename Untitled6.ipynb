{
  "nbformat": 4,
  "nbformat_minor": 0,
  "metadata": {
    "colab": {
      "provenance": [],
      "authorship_tag": "ABX9TyPcTZD8rJoCqWlkVjX5z0ew",
      "include_colab_link": true
    },
    "kernelspec": {
      "name": "python3",
      "display_name": "Python 3"
    },
    "language_info": {
      "name": "python"
    }
  },
  "cells": [
    {
      "cell_type": "markdown",
      "metadata": {
        "id": "view-in-github",
        "colab_type": "text"
      },
      "source": [
        "<a href=\"https://colab.research.google.com/github/yannfaiq/link-untuk-pycharm/blob/main/Untitled6.ipynb\" target=\"_parent\"><img src=\"https://colab.research.google.com/assets/colab-badge.svg\" alt=\"Open In Colab\"/></a>"
      ]
    },
    {
      "cell_type": "code",
      "execution_count": 1,
      "metadata": {
        "colab": {
          "base_uri": "https://localhost:8080/"
        },
        "id": "qnMCkDjgiAEy",
        "outputId": "dde9bde6-d3de-462f-ba31-6fbb7999988f"
      },
      "outputs": [
        {
          "output_type": "stream",
          "name": "stdout",
          "text": [
            "['jhon', 33, 'Toronto', True]\n"
          ]
        }
      ],
      "source": [
        "alist = [\"jhon\", 33, \"Toronto\", True]\n",
        "print(alist)"
      ]
    },
    {
      "cell_type": "code",
      "source": [
        "bin_colors=['Red', 'Green', 'Blue', 'Yellow']\n",
        "bin_colors [1]"
      ],
      "metadata": {
        "colab": {
          "base_uri": "https://localhost:8080/",
          "height": 35
        },
        "id": "W6uTruF8iyVi",
        "outputId": "349299a8-e538-4aea-b1ba-6117ab1003ea"
      },
      "execution_count": 2,
      "outputs": [
        {
          "output_type": "execute_result",
          "data": {
            "text/plain": [
              "'Green'"
            ],
            "application/vnd.google.colaboratory.intrinsic+json": {
              "type": "string"
            }
          },
          "metadata": {},
          "execution_count": 2
        }
      ]
    },
    {
      "cell_type": "code",
      "source": [
        "bin_colors=['Red', 'Green', 'Blue', 'Yellow']\n",
        "bin_colors [0:2]"
      ],
      "metadata": {
        "colab": {
          "base_uri": "https://localhost:8080/"
        },
        "id": "ZwpWGk04i8yE",
        "outputId": "238ca6fc-c6bc-4e2a-c717-e27e67b9ec2f"
      },
      "execution_count": 3,
      "outputs": [
        {
          "output_type": "execute_result",
          "data": {
            "text/plain": [
              "['Red', 'Green']"
            ]
          },
          "metadata": {},
          "execution_count": 3
        }
      ]
    },
    {
      "cell_type": "code",
      "source": [
        "from datetime import date\n",
        "\n",
        "# Membuat list \"Mahasiswa\"\n",
        "Mahasiswa = [\n",
        "    \"Ziyan Faiq\",            # Nama\n",
        "    \"2024071014\",            # NIM\n",
        "    \"Teknik Informatika\",    # Prodi\n",
        "    \"DAA\",         # Mata Kuliah\n",
        "    date.today().strftime(\"%d-%m-%Y\"),  # Tanggal hari ini\n",
        "    \"Universitas Pembangunan Jaya\"   # Nama Universitas\n",
        "]\n",
        "\n",
        "# Tampilkan isi list\n",
        "print(\"Data Mahasiswa:\")\n",
        "print(\"Nama          :\", Mahasiswa[0])\n",
        "print(\"NIM           :\", Mahasiswa[1])\n",
        "print(\"Prodi         :\", Mahasiswa[2])\n",
        "print(\"Mata Kuliah   :\", Mahasiswa[3])\n",
        "print(\"Tanggal Hari Ini :\", Mahasiswa[4])\n",
        "print(\"Universitas   :\", Mahasiswa[5])\n"
      ],
      "metadata": {
        "colab": {
          "base_uri": "https://localhost:8080/"
        },
        "id": "pz1iSeIOm4yJ",
        "outputId": "547cc79b-52a1-4fa3-f3a9-43ce74dbe4f2"
      },
      "execution_count": 9,
      "outputs": [
        {
          "output_type": "stream",
          "name": "stdout",
          "text": [
            "Data Mahasiswa:\n",
            "Nama          : Ziyan Faiq\n",
            "NIM           : 2024071014\n",
            "Prodi         : Teknik Informatika\n",
            "Mata Kuliah   : DAA\n",
            "Tanggal Hari Ini : 15-09-2025\n",
            "Universitas   : Universitas Pembangunan Jaya\n"
          ]
        }
      ]
    },
    {
      "cell_type": "code",
      "source": [
        "from datetime import date\n",
        "tgl_v1 = date.today()\n",
        "print(tgl_v1)\n",
        "\n",
        "import datetime as vDate\n",
        "hari = vDate.date.today()\n",
        "tanggal = vDate.date.today()\n",
        "print(hari)\n",
        "print(tanggal)\n",
        "\n",
        "mahasiswa = [\"ziyan\", \"2024071014\", \"informatika\", \"DAA\", f\"{tanggal.day}-{tanggal.month}-{tanggal.year}\", \"UPJ\"]\n",
        "print(mahasiswa)\n"
      ],
      "metadata": {
        "colab": {
          "base_uri": "https://localhost:8080/"
        },
        "id": "gVNa4aCKo5Ps",
        "outputId": "bc24e204-4d5f-474c-d8ef-40c5b4e752be"
      },
      "execution_count": 19,
      "outputs": [
        {
          "output_type": "stream",
          "name": "stdout",
          "text": [
            "2025-09-15\n",
            "2025-09-15\n",
            "2025-09-15\n",
            "['ziyan', '2024071014', 'informatika', 'DAA', '15-9-2025', 'UPJ']\n"
          ]
        }
      ]
    },
    {
      "cell_type": "code",
      "source": [
        "print (\"NIM\", mahasiswa[0:1])"
      ],
      "metadata": {
        "colab": {
          "base_uri": "https://localhost:8080/"
        },
        "id": "2Jd0HaCssX3o",
        "outputId": "13c47cd2-86d5-42bc-a55e-86837290db8f"
      },
      "execution_count": 20,
      "outputs": [
        {
          "output_type": "stream",
          "name": "stdout",
          "text": [
            "NIM ['ziyan']\n"
          ]
        }
      ]
    },
    {
      "cell_type": "code",
      "source": [
        "print (\"matkul\", mahasiswa[4:5])"
      ],
      "metadata": {
        "colab": {
          "base_uri": "https://localhost:8080/"
        },
        "id": "He0kYfEYuTsi",
        "outputId": "2c010520-2547-4316-eea7-b5009fd21481"
      },
      "execution_count": 24,
      "outputs": [
        {
          "output_type": "stream",
          "name": "stdout",
          "text": [
            "matkul ['15-9-2025']\n"
          ]
        }
      ]
    },
    {
      "cell_type": "code",
      "source": [
        "bin_colors = ['Red', 'Green', 'Blue', 'Yellow']\n",
        "for aColor in bin_colors:\n",
        "    print(aColor + 'square')"
      ],
      "metadata": {
        "colab": {
          "base_uri": "https://localhost:8080/"
        },
        "id": "sWAc-7OnvVNd",
        "outputId": "8102307b-52e7-4d5b-9f83-9e83b80ebe1e"
      },
      "execution_count": 30,
      "outputs": [
        {
          "output_type": "stream",
          "name": "stdout",
          "text": [
            "Redsquare\n",
            "Greensquare\n",
            "Bluesquare\n",
            "Yellowsquare\n"
          ]
        }
      ]
    },
    {
      "cell_type": "code",
      "source": [
        "for aMhs in mahasiswa:\n",
        "  print(aMhs + ' UPJ')"
      ],
      "metadata": {
        "colab": {
          "base_uri": "https://localhost:8080/"
        },
        "id": "CDZ1797twBzS",
        "outputId": "765831c9-8d9c-4e7e-b713-ce79547b48f8"
      },
      "execution_count": 32,
      "outputs": [
        {
          "output_type": "stream",
          "name": "stdout",
          "text": [
            "ziyan UPJ\n",
            "2024071014 UPJ\n",
            "informatika UPJ\n",
            "DAA UPJ\n",
            "15-9-2025 UPJ\n",
            "UPJ UPJ\n"
          ]
        }
      ]
    },
    {
      "cell_type": "code",
      "source": [
        "UPJ = ['Universitas', 'Pembangunan', 'Jaya']\n",
        "for aUPJ in UPJ:\n",
        "  print(aUPJ + ' UPJ')"
      ],
      "metadata": {
        "colab": {
          "base_uri": "https://localhost:8080/"
        },
        "id": "cs-v8PcTw8vK",
        "outputId": "80ced8ed-dfec-478c-b34a-12e71ccc0747"
      },
      "execution_count": 33,
      "outputs": [
        {
          "output_type": "stream",
          "name": "stdout",
          "text": [
            "Universitas UPJ\n",
            "Pembangunan UPJ\n",
            "Jaya UPJ\n"
          ]
        }
      ]
    },
    {
      "cell_type": "code",
      "source": [
        "nested_tuple = (100, (200, 400, 600), 300, (400, 800))\n",
        "\n",
        "print(nested_tuple)\n"
      ],
      "metadata": {
        "colab": {
          "base_uri": "https://localhost:8080/"
        },
        "id": "gtTq4nEMxuFo",
        "outputId": "e25fed68-2e88-43c0-dd17-5cd8b7c04b2b"
      },
      "execution_count": 35,
      "outputs": [
        {
          "output_type": "stream",
          "name": "stdout",
          "text": [
            "(100, (200, 400, 600), 300, (400, 800))\n"
          ]
        }
      ]
    }
  ]
}